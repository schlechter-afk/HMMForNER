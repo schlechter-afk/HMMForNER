{
 "cells": [
  {
   "cell_type": "code",
   "execution_count": 1,
   "metadata": {},
   "outputs": [
    {
     "name": "stdout",
     "output_type": "stream",
     "text": [
      "Defaulting to user installation because normal site-packages is not writeable\n",
      "Requirement already satisfied: nltk in /Users/swayam/Library/Python/3.9/lib/python/site-packages (3.8.1)\n",
      "Requirement already satisfied: tqdm in /Users/swayam/Library/Python/3.9/lib/python/site-packages (from nltk) (4.66.1)\n",
      "Requirement already satisfied: click in /Users/swayam/Library/Python/3.9/lib/python/site-packages (from nltk) (8.1.7)\n",
      "Requirement already satisfied: joblib in /Users/swayam/Library/Python/3.9/lib/python/site-packages (from nltk) (1.3.2)\n",
      "Requirement already satisfied: regex>=2021.8.3 in /Users/swayam/Library/Python/3.9/lib/python/site-packages (from nltk) (2023.10.3)\n",
      "\u001b[33mWARNING: You are using pip version 21.2.4; however, version 23.3.1 is available.\n",
      "You should consider upgrading via the '/Library/Developer/CommandLineTools/usr/bin/python3 -m pip install --upgrade pip' command.\u001b[0m\n"
     ]
    }
   ],
   "source": [
    "!pip3 install nltk"
   ]
  },
  {
   "cell_type": "code",
   "execution_count": 2,
   "metadata": {},
   "outputs": [],
   "source": [
    "import numpy as np\n",
    "from nltk.tokenize import word_tokenize\n",
    "from nltk.stem import PorterStemmer\n",
    "import pandas as pd"
   ]
  },
  {
   "cell_type": "code",
   "execution_count": 3,
   "metadata": {},
   "outputs": [
    {
     "name": "stderr",
     "output_type": "stream",
     "text": [
      "[nltk_data] Downloading package punkt to /Users/swayam/nltk_data...\n",
      "[nltk_data]   Package punkt is already up-to-date!\n"
     ]
    },
    {
     "data": {
      "text/plain": [
       "True"
      ]
     },
     "execution_count": 3,
     "metadata": {},
     "output_type": "execute_result"
    }
   ],
   "source": [
    "import nltk\n",
    "nltk.download('punkt')"
   ]
  },
  {
   "cell_type": "code",
   "execution_count": null,
   "metadata": {},
   "outputs": [],
   "source": [
    "lstm_tags = [\"O\", \"B-PER\", \"I-PER\", \"B-ORG\", \"I-ORG\", \"B-LOC\", \"I-LOC\", \"B-MISC\", \"I-MISC\"]"
   ]
  },
  {
   "cell_type": "code",
   "execution_count": 47,
   "metadata": {},
   "outputs": [],
   "source": [
    "def preprocess_text(text, ner_tags):\n",
    "    tokens = text\n",
    "    stemmer = PorterStemmer()\n",
    "    tokens = [stemmer.stem(word) for word in tokens]\n",
    "\n",
    "    new_ner_tags = [ner_tags[i] for i in range(len(tokens)) if tokens[i].isalnum()]\n",
    "\n",
    "    tokens = [word for word in tokens if word.isalnum()]\n",
    "\n",
    "    return tokens, new_ner_tags\n",
    "\n",
    "def read_data(file_path, labels):\n",
    "    sentences = []\n",
    "    words = []\n",
    "    ner_tags = []\n",
    "\n",
    "    with open(file_path, 'r', encoding='utf-8') as file:\n",
    "        for line in file:\n",
    "            line = line.strip()\n",
    "            if not line: \n",
    "                if words:\n",
    "                    preprocessed_words, ner_tags = preprocess_text(words, ner_tags)\n",
    "                    sentences.append([preprocessed_words, ner_tags])\n",
    "                    words = []\n",
    "                    ner_tags = []\n",
    "            else:\n",
    "                parts = line.split()\n",
    "                word = parts[0]\n",
    "                ner_tag = parts[3]\n",
    "                words.append(word)\n",
    "                ner_tags.append(labels.index(ner_tag))\n",
    "\n",
    "    return sentences\n",
    "\n",
    "lstm_train_data = read_data('./lstm_data/train.txt', lstm_tags)\n",
    "lstm_test_data = read_data('./lstm_data/test.txt', lstm_tags)\n",
    "lstm_val_data = read_data('./lstm_data/valid.txt', lstm_tags)"
   ]
  },
  {
   "cell_type": "code",
   "execution_count": 49,
   "metadata": {},
   "outputs": [],
   "source": [
    "df = pd.DataFrame(lstm_test_data, columns=['tokens', 'ner_tags'])\n",
    "df.to_csv('./lstm_test.csv', index=False)\n",
    "\n",
    "df = pd.DataFrame(lstm_train_data, columns=['tokens', 'ner_tags'])\n",
    "df.to_csv('./lstm_train.csv', index=False)"
   ]
  }
 ],
 "metadata": {
  "kernelspec": {
   "display_name": "Python 3",
   "language": "python",
   "name": "python3"
  },
  "language_info": {
   "codemirror_mode": {
    "name": "ipython",
    "version": 3
   },
   "file_extension": ".py",
   "mimetype": "text/x-python",
   "name": "python",
   "nbconvert_exporter": "python",
   "pygments_lexer": "ipython3",
   "version": "3.9.6"
  },
  "orig_nbformat": 4
 },
 "nbformat": 4,
 "nbformat_minor": 2
}
