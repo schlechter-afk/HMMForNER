{
 "cells": [
  {
   "cell_type": "code",
   "execution_count": 5,
   "metadata": {},
   "outputs": [
    {
     "name": "stdout",
     "output_type": "stream",
     "text": [
      "Defaulting to user installation because normal site-packages is not writeable\n",
      "Requirement already satisfied: nltk in /Users/swayam/Library/Python/3.9/lib/python/site-packages (3.8.1)\n",
      "Requirement already satisfied: click in /Users/swayam/Library/Python/3.9/lib/python/site-packages (from nltk) (8.1.7)\n",
      "Requirement already satisfied: regex>=2021.8.3 in /Users/swayam/Library/Python/3.9/lib/python/site-packages (from nltk) (2023.10.3)\n",
      "Requirement already satisfied: joblib in /Users/swayam/Library/Python/3.9/lib/python/site-packages (from nltk) (1.3.2)\n",
      "Requirement already satisfied: tqdm in /Users/swayam/Library/Python/3.9/lib/python/site-packages (from nltk) (4.66.1)\n",
      "\u001b[33mWARNING: You are using pip version 21.2.4; however, version 23.3.1 is available.\n",
      "You should consider upgrading via the '/Library/Developer/CommandLineTools/usr/bin/python3 -m pip install --upgrade pip' command.\u001b[0m\n"
     ]
    }
   ],
   "source": [
    "!pip3 install nltk"
   ]
  },
  {
   "cell_type": "code",
   "execution_count": 1,
   "metadata": {},
   "outputs": [],
   "source": [
    "import numpy as np\n",
    "from nltk.tokenize import word_tokenize\n",
    "from nltk.stem import PorterStemmer\n",
    "import pandas as pd"
   ]
  },
  {
   "cell_type": "code",
   "execution_count": 2,
   "metadata": {},
   "outputs": [
    {
     "name": "stderr",
     "output_type": "stream",
     "text": [
      "[nltk_data] Downloading package punkt to /Users/mitanshk/nltk_data...\n",
      "[nltk_data]   Package punkt is already up-to-date!\n"
     ]
    },
    {
     "data": {
      "text/plain": [
       "True"
      ]
     },
     "execution_count": 2,
     "metadata": {},
     "output_type": "execute_result"
    }
   ],
   "source": [
    "import nltk\n",
    "nltk.download('punkt')"
   ]
  },
  {
   "cell_type": "code",
   "execution_count": 3,
   "metadata": {},
   "outputs": [],
   "source": [
    "politics_labels = ['O', 'B-country', 'B-politician', 'I-politician', 'B-election', 'I-election', 'B-person', 'I-person', 'B-organisation', 'I-organisation', 'B-location', 'B-misc', 'I-location', 'I-country', 'I-misc', 'B-politicalparty', 'I-politicalparty', 'B-event', 'I-event']\n",
    "science_labels = ['O', 'B-scientist', 'I-scientist', 'B-person', 'I-person', 'B-university', 'I-university', 'B-organisation', 'I-organisation', 'B-country', 'I-country', 'B-location', 'I-location', 'B-discipline', 'I-discipline', 'B-enzyme', 'I-enzyme', 'B-protein', 'I-protein', 'B-chemicalelement', 'I-chemicalelement', 'B-chemicalcompound', 'I-chemicalcompound', 'B-astronomicalobject', 'I-astronomicalobject', 'B-academicjournal', 'I-academicjournal', 'B-event', 'I-event', 'B-theory', 'I-theory', 'B-award', 'I-award', 'B-misc', 'I-misc']\n",
    "music_labels = ['O', 'B-musicgenre', 'I-musicgenre', 'B-song', 'I-song', 'B-band', 'I-band', 'B-album', 'I-album', 'B-musicalartist', 'I-musicalartist', 'B-musicalinstrument', 'I-musicalinstrument', 'B-award', 'I-award', 'B-event', 'I-event', 'B-country', 'I-country', 'B-location', 'I-location', 'B-organisation', 'I-organisation', 'B-person', 'I-person', 'B-misc', 'I-misc']\n",
    "literature_labels = [\"O\", \"B-book\", \"I-book\", \"B-writer\", \"I-writer\", \"B-award\", \"I-award\", \"B-poem\", \"I-poem\", \"B-event\", \"I-event\", \"B-magazine\", \"I-magazine\", \"B-literarygenre\", \"I-literarygenre\", 'B-country', 'I-country', \"B-person\", \"I-person\", \"B-location\", \"I-location\", 'B-organisation', 'I-organisation', 'B-misc', 'I-misc']\n",
    "ai_labels = [\"O\", \"B-field\", \"I-field\", \"B-task\", \"I-task\", \"B-product\", \"I-product\", \"B-algorithm\", \"I-algorithm\", \"B-researcher\", \"I-researcher\", \"B-metrics\", \"I-metrics\", \"B-programlang\", \"I-programlang\", \"B-conference\", \"I-conference\", \"B-university\", \"I-university\", \"B-country\", \"I-country\", \"B-person\", \"I-person\", \"B-organisation\", \"I-organisation\", \"B-location\", \"I-location\", \"B-misc\", \"I-misc\"]"
   ]
  },
  {
   "cell_type": "code",
   "execution_count": 47,
   "metadata": {},
   "outputs": [],
   "source": [
    "def preprocess_text(text, ner_tags):\n",
    "    tokens = text\n",
    "    stemmer = PorterStemmer()\n",
    "    tokens = [stemmer.stem(word) for word in tokens]\n",
    "\n",
    "    new_ner_tags = [ner_tags[i] for i in range(len(tokens)) if tokens[i].isalnum()]\n",
    "\n",
    "    tokens = [word for word in tokens if word.isalnum()]\n",
    "\n",
    "    return tokens, new_ner_tags\n",
    "\n",
    "def read_data(file_path, labels):\n",
    "    sentences = []\n",
    "    words = []\n",
    "    ner_tags = []\n",
    "\n",
    "    with open(file_path, 'r', encoding='utf-8') as file:\n",
    "        for line in file:\n",
    "            line = line.strip()\n",
    "            if not line: \n",
    "                if words:\n",
    "                    preprocessed_words, ner_tags = preprocess_text(words, ner_tags)\n",
    "                    sentences.append([preprocessed_words, ner_tags])\n",
    "                    words = []\n",
    "                    ner_tags = []\n",
    "            else:\n",
    "                parts = line.split()\n",
    "                word = parts[0]\n",
    "                ner_tag = parts[1]\n",
    "                words.append(word)\n",
    "                ner_tags.append(labels.index(ner_tag))\n",
    "\n",
    "    return sentences\n",
    "\n",
    "\n",
    "science_train_data = read_data('./science/science_train.txt', science_labels)\n",
    "science_test_data = read_data('./science/science_test.txt', science_labels)\n",
    "politics_train_data = read_data('./politics/politics_train.txt', politics_labels)\n",
    "politics_test_data = read_data('./politics/politics_test.txt', politics_labels)\n",
    "ai_train_data = read_data('./ai/ai_train.txt', ai_labels)\n",
    "ai_test_data = read_data('./ai/ai_test.txt', ai_labels)\n",
    "music_train_data = read_data('./music/music_train.txt', music_labels)\n",
    "music_test_data = read_data('./music/music_test.txt', music_labels)\n",
    "literature_train_data = read_data('./literature/literature_train.txt', literature_labels)\n",
    "literature_test_data = read_data('./literature/literature_test.txt', literature_labels)"
   ]
  },
  {
   "cell_type": "code",
   "execution_count": 49,
   "metadata": {},
   "outputs": [],
   "source": [
    "df = pd.DataFrame(science_train_data, columns=['tokens', 'ner_tags'])\n",
    "df.to_csv('./science/science_test.csv', index=False)\n",
    "\n",
    "df = pd.DataFrame(science_test_data, columns=['tokens', 'ner_tags'])\n",
    "df.to_csv('./science/science_train.csv', index=False)\n",
    "\n",
    "df = pd.DataFrame(politics_train_data, columns=['tokens', 'ner_tags'])\n",
    "df.to_csv('./politics/politics_test.csv', index=False)\n",
    "\n",
    "df = pd.DataFrame(politics_test_data, columns=['tokens', 'ner_tags'])\n",
    "df.to_csv('./politics/politics_train.csv', index=False)\n",
    "\n",
    "df = pd.DataFrame(ai_train_data, columns=['tokens', 'ner_tags'])\n",
    "df.to_csv('./ai/ai_test.csv', index=False)\n",
    "\n",
    "df = pd.DataFrame(ai_test_data, columns=['tokens', 'ner_tags'])\n",
    "df.to_csv('./ai/ai_train.csv', index=False)\n",
    "\n",
    "df = pd.DataFrame(music_train_data, columns=['tokens', 'ner_tags'])\n",
    "df.to_csv('./music/music_test.csv', index=False)\n",
    "\n",
    "df = pd.DataFrame(music_test_data, columns=['tokens', 'ner_tags'])\n",
    "df.to_csv('./music/music_train.csv', index=False)\n",
    "\n",
    "df = pd.DataFrame(literature_train_data, columns=['tokens', 'ner_tags'])\n",
    "df.to_csv('./literature/literature_test.csv', index=False)\n",
    "\n",
    "df = pd.DataFrame(literature_test_data, columns=['tokens', 'ner_tags'])\n",
    "df.to_csv('./literature/literature_train.csv', index=False)"
   ]
  },
  {
   "cell_type": "code",
   "execution_count": null,
   "metadata": {},
   "outputs": [],
   "source": []
  }
 ],
 "metadata": {
  "kernelspec": {
   "display_name": "Python 3",
   "language": "python",
   "name": "python3"
  },
  "language_info": {
   "codemirror_mode": {
    "name": "ipython",
    "version": 3
   },
   "file_extension": ".py",
   "mimetype": "text/x-python",
   "name": "python",
   "nbconvert_exporter": "python",
   "pygments_lexer": "ipython3",
   "version": "3.9.6"
  },
  "orig_nbformat": 4
 },
 "nbformat": 4,
 "nbformat_minor": 2
}
